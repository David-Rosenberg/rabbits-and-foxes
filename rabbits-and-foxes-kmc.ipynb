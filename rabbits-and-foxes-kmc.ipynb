{
 "cells": [
  {
   "cell_type": "markdown",
   "metadata": {},
   "source": [
    "# Rabbits and foxes\n",
    "\n",
    "There are initially 400 rabbits and 200 foxes on a farm (but it could be two cell types in a 96 well plate or something, if you prefer bio-engineering analogies). Plot the concentration of foxes and rabbits as a function of time for a period of up to 600 days. The predator-prey relationships are given by the following set of coupled ordinary differential equations:\n",
    "\n",
    "\\begin{align}\n",
    "\\frac{dR}{dt} &= k_1 R - k_2 R F \\tag{1}\\\\\n",
    "\\frac{dF}{dt} &= k_3 R F - k_4 F \\tag{2}\\\\\n",
    "\\end{align}\n",
    "\n",
    "* Constant for growth of rabbits $k_1 = 0.015$ day<sup>-1</sup>\n",
    "* Constant for death of rabbits being eaten by foxes $k_2 = 0.00004$ day<sup>-1</sup> foxes<sup>-1</sup>\n",
    "* Constant for growth of foxes after eating rabbits $k_3 = 0.0004$ day<sup>-1</sup> rabbits<sup>-1</sup>\n",
    "* Constant for death of foxes $k_4 = 0.04$ day<sup>-1</sup>\n",
    "\n",
    "*This problem is based on one from Chapter 1 of H. Scott Fogler's textbook \"Essentials of Chemical Reaction Engineering\".*\n"
   ]
  },
  {
   "cell_type": "code",
   "execution_count": 4,
   "metadata": {},
   "outputs": [],
   "source": [
    "%matplotlib inline\n",
    "import numpy as np\n",
    "from matplotlib import pyplot as plt"
   ]
  },
  {
   "cell_type": "markdown",
   "metadata": {},
   "source": [
    "# Now let's try some Kinetic Monte Carlo"
   ]
  },
  {
   "cell_type": "markdown",
   "metadata": {
    "collapsed": true
   },
   "source": [
    "We wish to implement a Kinetic Monte Carlo algorithm to simulate the same situation. See https://en.wikipedia.org/wiki/Kinetic_Monte_Carlo for details.\n",
    "\n",
    "We'll assume the numbers of rabbits and foxes (starting at 400 and 200) are actual rabbits and foxes, not \"rabbit densities\" for example, and so must always remain integers: you can't have half a rabbit or half a fox.\n",
    "\n",
    "There are four events, with rates that are straightforward to calculate, so the rejection-free algorithm is suitable:\n",
    "* `rabbit_birth = k1 * rabbits`\n",
    "* `rabbit_death = k2 * rabbits * foxes`\n",
    "* `fox_birth = k3 * rabbits * foxes`\n",
    "* `fox_death = k4 * foxes`\n",
    "\n",
    "\n",
    "Use a Kinetic Monte Carlo simulation(s) running for 600 days to determine\n",
    "1. The expected location of the second peak in foxes (eg. 425 days, 2800 foxes), on occasions that there is one (eg. if there's a peak that's  >200 days and >100 foxes)\n",
    "2. The interquartile range of the second peak in foxes (eg. 411-443 days, 2700-3120 foxes).\n",
    "3. The probability that the foxes die out before 600 days are complete\n",
    "\n",
    "Make sure you've done enough simulations to be suitably confident in your answers (given the precision you think appropriate)."
   ]
  },
  {
   "cell_type": "markdown",
   "metadata": {},
   "source": [
    "# Your turn!"
   ]
  },
  {
   "cell_type": "code",
   "execution_count": 7,
   "metadata": {},
   "outputs": [],
   "source": [
    "# Paste library imports here so they don't have to be re-run all the time - OK admittedly that's not what I did\n",
    "%matplotlib inline\n",
    "import numpy as np\n",
    "import math\n",
    "from matplotlib import pyplot as plt\n",
    "# Set constants\n",
    "k1 = 0.015\n",
    "k2 = 0.00004\n",
    "k3 = 0.0004\n",
    "k4 = 0.04"
   ]
  },
  {
   "cell_type": "code",
   "execution_count": 19,
   "metadata": {},
   "outputs": [],
   "source": [
    "# Initialize model\n",
    "t = 0\n",
    "state = 0\n",
    "rabbits = []\n",
    "foxes = []\n",
    "times = []\n",
    "rabbits.append(400)\n",
    "foxes.append(200)\n",
    "times.append(t)\n",
    "while t < 600: # Run the simulation until random time steps add up to 600 days\n",
    "    # store the last values of rabbits and foxes locally\n",
    "    r = rabbits[-1]\n",
    "    f = foxes[-1]\n",
    "    # Calculate rates\n",
    "    rabbit_birth = k1 * r\n",
    "    rabbit_death = k2 * r * f\n",
    "    fox_birth = k3 * r * f\n",
    "    fox_death = k4 * f\n",
    "    total_rate = rabbit_birth + rabbit_death + fox_birth + fox_death\n",
    "    # Calculate cumulative probabilities\n",
    "    rabirth_index = rabbit_birth / total_rate\n",
    "    radeath_index = rabirth_index + rabbit_death / total_rate\n",
    "    foxbirth_index = radeath_index + fox_birth / total_rate\n",
    "    # Set the new outcome\n",
    "    state = np.random.uniform(0,1)         # Set state to random number from 0 to 1\n",
    "    if state < foxbirth_index:          # If ouside fox death region (foxbirth_index < state < 1)\n",
    "        if state < radeath_index:       # If outside fox birth region (radeath_index < state < foxbirth_index)\n",
    "            if state >= rabirth_index:  # if inside rabbit death region (rabirth_index < state < radeath_index )\n",
    "                rabbits.append(r - 1)   # Subtract 1 rabbit (rabbit death) and keep foxes same\n",
    "                foxes.append(f)\n",
    "            else:                       # Only remaining option here rabbit birth index\n",
    "                rabbits.append(r + 1)   # Add 1 rabbit \n",
    "                foxes.append(f)         # and keep foxes same\n",
    "        else:                           # If inside fox birth region (radeath_index <= state < foxbirth_index)\n",
    "            rabbits.append(r)           # Keep rabbits same\n",
    "            foxes.append(f+1)           # and add 1 fox\n",
    "    else:                               # If inside fox death region (foxbirth_index < state < 1)\n",
    "        rabbits.append(r)               # Keep rabbits same\n",
    "        foxes.append(f-1)               # and subtract 1 fox (fox death)\n",
    "    # Calculate time step\n",
    "    t = times[-1]                       # Retrieve current time value\n",
    "    times.append(t + math.log(1 / np.random.uniform(1,0)) / total_rate)  # Add new time value\n",
    "    \n",
    "    \n",
    "# Algorithm:\n",
    "# I. Initialize rabbits, foxes, times arrays DONE\n",
    "#II. Write Do until loop for time to 600 days DONE\n",
    "    # 1. Capture current rabbit and fox values DONE\n",
    "    # 2. Calculate probabilities of the four events for current rabbit & fox values DONE\n",
    "    # 3. Map probabilities into distribution from 0 - 1 DONE\n",
    "        # i. sum rates DONE\n",
    "        # ii. calculate rate[i]/sum for each rate DONE\n",
    "        # iii. store additive ranges of each rate[i]/sum DONE\n",
    "    # 4. Set new state DONE\n",
    "        # i. generate random number DONE\n",
    "        # ii. select state from ranges in 3 DONE\n",
    "    # 5. Update outcome DONE\n",
    "        # i. rabbit_birth --> append current rabbit value + 1 to rabbits etc. DONE\n",
    "        # ii. for other value append current value DONE\n",
    "    # 6. Generate random time step DONE\n",
    "        # i. generate new random number u' DONE - merged with below\n",
    "        # ii. time = time + ln(1/u') / sum of rates DONE\n",
    "        "
   ]
  },
  {
   "cell_type": "code",
   "execution_count": 20,
   "metadata": {},
   "outputs": [],
   "source": [
    "def KMC():\n",
    "    # Initialize model\n",
    "    t = 0\n",
    "    state = 0\n",
    "    rabbits = [400]\n",
    "    foxes = [200]\n",
    "    times = [t]\n",
    "    while t < 600: # Run the simulation until random time steps add up to 600 days\n",
    "        # store the last values of rabbits and foxes locally\n",
    "        r = rabbits[-1]\n",
    "        f = foxes[-1]\n",
    "        # Throw in error checking to abort calculation if all rabbits are dead\n",
    "        if r <= 0:\n",
    "            break\n",
    "        # Calculate rates\n",
    "        rabbit_birth = k1 * r\n",
    "        rabbit_death = k2 * r * f\n",
    "        fox_birth = k3 * r * f\n",
    "        fox_death = k4 * f\n",
    "        total_rate = rabbit_birth + rabbit_death + fox_birth + fox_death\n",
    "        # Calculate cumulative probabilities\n",
    "        rabirth_index = rabbit_birth / total_rate\n",
    "        radeath_index = rabirth_index + rabbit_death / total_rate\n",
    "        foxbirth_index = radeath_index + fox_birth / total_rate\n",
    "        # Set the new outcome\n",
    "        state = np.random.uniform(0,1)      # Set state to random number from 0 to 1\n",
    "        if state < foxbirth_index:          # If ouside fox death region (foxbirth_index < state < 1)\n",
    "            if state < radeath_index:       # If outside fox birth region (radeath_index < state < foxbirth_index)\n",
    "                if state >= rabirth_index:  # if inside rabbit death region (rabirth_index < state < radeath_index )\n",
    "                    rabbits.append(r - 1)   # Subtract 1 rabbit (rabbit death) \n",
    "                    foxes.append(f)         # and keep foxes same\n",
    "                else:                       # Only remaining option here rabbit birth index\n",
    "                    rabbits.append(r + 1)   # Add 1 rabbit \n",
    "                    foxes.append(f)         # and keep foxes same\n",
    "            else:                           # If inside fox birth region (radeath_index <= state < foxbirth_index)\n",
    "                rabbits.append(r)           # Keep rabbits same\n",
    "                foxes.append(f+1)           # and add 1 fox\n",
    "        else:                               # If inside fox death region (foxbirth_index < state < 1)\n",
    "            rabbits.append(r)               # Keep rabbits same\n",
    "            foxes.append(f-1)               # and subtract 1 fox (fox death)\n",
    "        # Calculate time step  \n",
    "        t = times[-1] # Update current time value        \n",
    "        times.append(t + math.log(1 / np.random.uniform(1,0)) / total_rate)  # Add new time value\n",
    "    # Convert foxes and times to arrays for range handling\n",
    "    fox_arr = np.array(foxes)\n",
    "    time_arr = np.array(times)\n",
    "    # Find 2nd peak range and return stats\n",
    "    fox_subset = fox_arr*(fox_arr>100)*(time_arr > 200)     # From tips, find portion of foxes array after 300 days with more than 100 foxes\n",
    "    return [times[np.argmax(fox_subset)],np.amax(fox_subset),foxes[-1]==0] # Return list of time of 2nd peak, value of 2nd peak, whether all foxes died"
   ]
  },
  {
   "cell_type": "markdown",
   "metadata": {},
   "source": [
    "# Convergence test"
   ]
  },
  {
   "cell_type": "code",
   "execution_count": 97,
   "metadata": {},
   "outputs": [
    {
     "name": "stdout",
     "output_type": "stream",
     "text": [
      "iterations      peak value\n",
      "10           985\n",
      "20      1.03e+03\n",
      "30           727\n",
      "40           780\n",
      "50           694\n",
      "60           949\n",
      "70           695\n",
      "80           717\n",
      "90           774\n",
      "100           689\n"
     ]
    }
   ],
   "source": [
    "# Set up output a la ODE solver\n",
    "run_nums = []  # List to hold number of KMC iterations\n",
    "ave_maxes = [] # List to hold average peak value\n",
    "print(\"iterations      peak value\")\n",
    "# Iterate from 10 to 100 times in 10 run increments and store avearage max\n",
    "for i in np.arange(9,109,10):\n",
    "    run_nums.append(i+1) # Record number of iterations in this run\n",
    "    maxes= [KMC()[1]] # List to store maxes in one set of runs before averaging\n",
    "    for j in range(i):\n",
    "        maxes.append(KMC()[1]) # Adds a new KMC max to maxes\n",
    "    maxarr = np.array(maxes)   # Converts maxes list to array for average calculation\n",
    "    ave_max = np.average(maxarr)\n",
    "    ave_maxes.append(ave_max) # Adds the average of maxes to ave_maxes\n",
    "    print(\"{0:2d}      {1:8.3g}\".format(i+1, ave_max))"
   ]
  },
  {
   "cell_type": "code",
   "execution_count": 67,
   "metadata": {},
   "outputs": [
    {
     "name": "stdout",
     "output_type": "stream",
     "text": [
      "0\n"
     ]
    }
   ],
   "source": [
    "i = 9\n",
    "run_nums = []\n",
    "ave_maxes = []\n",
    "run_nums.append(i+1)\n",
    "maxes=np.array(KMC()[1])\n",
    "for j in range(i):\n",
    "    np.append(maxes,KMC()[1])\n",
    "print(maxes)"
   ]
  },
  {
   "cell_type": "code",
   "execution_count": 96,
   "metadata": {},
   "outputs": [
    {
     "data": {
      "text/plain": [
       "list"
      ]
     },
     "execution_count": 96,
     "metadata": {},
     "output_type": "execute_result"
    }
   ],
   "source": [
    "type([KMC()[1]])"
   ]
  },
  {
   "cell_type": "code",
   "execution_count": 90,
   "metadata": {},
   "outputs": [
    {
     "data": {
      "text/plain": [
       "array([1, 1])"
      ]
     },
     "execution_count": 90,
     "metadata": {},
     "output_type": "execute_result"
    }
   ],
   "source": [
    "np.append(maxes,[1])"
   ]
  },
  {
   "cell_type": "code",
   "execution_count": 92,
   "metadata": {},
   "outputs": [
    {
     "name": "stdout",
     "output_type": "stream",
     "text": [
      "[1]\n"
     ]
    }
   ],
   "source": []
  },
  {
   "cell_type": "code",
   "execution_count": null,
   "metadata": {},
   "outputs": [],
   "source": []
  },
  {
   "cell_type": "code",
   "execution_count": null,
   "metadata": {},
   "outputs": [],
   "source": []
  }
 ],
 "metadata": {
  "anaconda-cloud": {},
  "kernelspec": {
   "display_name": "Python 3",
   "language": "python",
   "name": "python3"
  },
  "language_info": {
   "codemirror_mode": {
    "name": "ipython",
    "version": 3
   },
   "file_extension": ".py",
   "mimetype": "text/x-python",
   "name": "python",
   "nbconvert_exporter": "python",
   "pygments_lexer": "ipython3",
   "version": "3.6.5"
  }
 },
 "nbformat": 4,
 "nbformat_minor": 1
}
