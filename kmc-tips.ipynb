{
 "cells": [
  {
   "cell_type": "code",
   "execution_count": 1,
   "metadata": {
    "collapsed": true
   },
   "outputs": [],
   "source": [
    "%matplotlib inline\n",
    "import numpy as np\n",
    "from matplotlib import pyplot as plt"
   ]
  },
  {
   "cell_type": "markdown",
   "metadata": {},
   "source": [
    "## Some tips and tricks for the Kinetic Monte Carlo algorithm.\n",
    "\n",
    "For random numbers use either the `random` module or `np.random`"
   ]
  },
  {
   "cell_type": "code",
   "execution_count": 2,
   "metadata": {},
   "outputs": [
    {
     "data": {
      "text/plain": [
       "array([ 5.50797903,  7.08147823,  2.90904739,  5.10827605])"
      ]
     },
     "execution_count": 2,
     "metadata": {},
     "output_type": "execute_result"
    }
   ],
   "source": [
    "import random\n",
    "random.seed(3) # Fix seed so results don't change every time I execute\n",
    "np.random.seed(3) # same thing for numpy\n",
    "\n",
    "rates = 10*np.random.rand(4) # just to demo, use four random numbers for our event rates\n",
    "rates"
   ]
  },
  {
   "cell_type": "code",
   "execution_count": 3,
   "metadata": {},
   "outputs": [
    {
     "data": {
      "text/plain": [
       "20.606780693032878"
      ]
     },
     "execution_count": 3,
     "metadata": {},
     "output_type": "execute_result"
    }
   ],
   "source": [
    "sum_rates = sum(rates)\n",
    "sum_rates"
   ]
  },
  {
   "cell_type": "markdown",
   "metadata": {},
   "source": [
    "If `sum_rates` is on average about 20 days$^{-1}$, we'd expect the average wait_time to be about 0.05 days"
   ]
  },
  {
   "cell_type": "code",
   "execution_count": 4,
   "metadata": {},
   "outputs": [
    {
     "name": "stdout",
     "output_type": "stream",
     "text": [
      "0.0131880038557\n",
      "0.038131394448\n",
      "0.0224180722259\n",
      "0.0449434183423\n",
      "0.0476907055852\n"
     ]
    }
   ],
   "source": [
    "for i in range(5):\n",
    "    wait_time = random.expovariate( sum_rates )\n",
    "    print(wait_time)"
   ]
  },
  {
   "cell_type": "markdown",
   "metadata": {},
   "source": [
    "To pick one of the events, it might help to generate a uniform number between 0 and `sum_rates`"
   ]
  },
  {
   "cell_type": "code",
   "execution_count": 5,
   "metadata": {},
   "outputs": [
    {
     "name": "stdout",
     "output_type": "stream",
     "text": [
      "1.35033883142\n",
      "0.271349914139\n",
      "17.257541712\n",
      "5.34445129511\n",
      "4.82880672388\n"
     ]
    }
   ],
   "source": [
    "for i in range(5):\n",
    "    choice = random.uniform(0, sum_rates)\n",
    "    print(choice)"
   ]
  },
  {
   "cell_type": "markdown",
   "metadata": {},
   "source": [
    "## Tricks for slicing arrays"
   ]
  },
  {
   "cell_type": "markdown",
   "metadata": {},
   "source": [
    "To demonstrate this we need to generate arrays of foxes and times, so we'll quickly do the ODE solve version:"
   ]
  },
  {
   "cell_type": "code",
   "execution_count": 6,
   "metadata": {},
   "outputs": [
    {
     "data": {
      "image/png": "[encoded data removed]",
      "text/plain": [
       "<matplotlib.figure.Figure at 0x10e3f5d68>"
      ]
     },
     "metadata": {},
     "output_type": "display_data"
    },
    {
     "name": "stdout",
     "output_type": "stream",
     "text": [
      "Second peak occurs at (428, 2803.6080735671562)\n"
     ]
    }
   ],
   "source": [
    "from scipy.integrate import odeint\n",
    "k1 = 0.015\n",
    "k2 = 0.00004\n",
    "k3 = 0.0004\n",
    "k4 = 0.04\n",
    "end_time = 600.\n",
    "def rates(variables, time):\n",
    "    \"\"\"\n",
    "    Return the right hand side of the ODE\n",
    "    \"\"\"\n",
    "    rabbits, foxes = variables\n",
    "    rate_rabbits = (k1 * rabbits - k2 * rabbits * foxes)\n",
    "    rate_foxes = (k3 * rabbits * foxes - k4 * foxes)\n",
    "    return (rate_rabbits, rate_foxes)\n",
    "\n",
    "times = np.arange(0, end_time)\n",
    "initial_conditions = (400., 200.)\n",
    "result = odeint(rates, initial_conditions, times)\n",
    "rabbits = result[:,0]\n",
    "foxes = result[:,1]\n",
    "plt.plot(times, rabbits, label='rabbits')\n",
    "plt.plot(times, foxes, label='foxes')\n",
    "plt.legend(loc=\"best\") # put the legend at the best location to avoid overlapping things\n",
    "plt.show()\n",
    "print(\"Second peak occurs at\",(foxes.argmax(),foxes.max()))"
   ]
  },
  {
   "cell_type": "markdown",
   "metadata": {},
   "source": [
    "First we will use slicing to select every 10th element from the times, rabbits, and foxes arrays\n",
    "and store in arrays called `times_`, `rabbits_`, `foxes_` just so that we can demonstrate a few tricks without printing 600 numbers that are hard to read."
   ]
  },
  {
   "cell_type": "code",
   "execution_count": 7,
   "metadata": {},
   "outputs": [
    {
     "data": {
      "text/plain": [
       "(array([   0.,   10.,   20.,   30.,   40.,   50.,   60.,   70.,   80.,\n",
       "          90.,  100.,  110.,  120.,  130.,  140.,  150.,  160.,  170.,\n",
       "         180.,  190.,  200.,  210.,  220.,  230.,  240.,  250.,  260.,\n",
       "         270.,  280.,  290.,  300.,  310.,  320.,  330.,  340.,  350.,\n",
       "         360.,  370.,  380.,  390.,  400.,  410.,  420.,  430.,  440.,\n",
       "         450.,  460.,  470.,  480.,  490.,  500.,  510.,  520.,  530.,\n",
       "         540.,  550.,  560.,  570.,  580.,  590.]),\n",
       " array([ 400.        ,  397.34690636,  284.20087989,  126.17206714,\n",
       "          49.05675683,   22.94054823,   13.59478086,    9.79659472,\n",
       "           8.1557982 ,    7.52170769,    7.45010576,    7.75254635,\n",
       "           8.34629412,    9.1981533 ,   10.30134324,   11.66532039,\n",
       "          13.31117751,   15.26966675,   17.58057604,   20.29288276,\n",
       "          23.4654166 ,   27.16790903,   31.48238047,   36.50485572,\n",
       "          42.34742147,   49.1406545 ,   57.03645919,   66.21135838,\n",
       "          76.87028097,   89.2508772 ,  103.62835298,  120.32071166,\n",
       "         139.69403135,  162.16672863,  188.20989913,  218.33530781,\n",
       "         253.04468099,  292.64945941,  336.61252628,  380.95522227,\n",
       "         407.96864347,  360.99628942,  204.75894903,   80.65940755,\n",
       "          33.49582831,   17.51967039,   11.4400035 ,    8.86533073,\n",
       "           7.7733269 ,    7.43363279,    7.550049  ,    7.9936872 ,\n",
       "           8.70896996,    9.67674693,   10.8985718 ,   12.38965204,\n",
       "          14.17569156,   16.29164216,   18.78148679,   21.69865078]),\n",
       " array([  2.00000000e+02,   6.77299984e+02,   1.85055413e+03,\n",
       "          2.77007906e+03,   2.56818478e+03,   1.96979966e+03,\n",
       "          1.41634188e+03,   9.93818207e+02,   6.90212230e+02,\n",
       "          4.77286012e+02,   3.29610832e+02,   2.27741496e+02,\n",
       "          1.57640857e+02,   1.09434323e+02,   7.62668993e+01,\n",
       "          5.34145154e+01,   3.76350955e+01,   2.67086747e+01,\n",
       "          1.91167295e+01,   1.38207045e+01,   1.01099499e+01,\n",
       "          7.49770681e+00,   5.65013094e+00,   4.33793995e+00,\n",
       "          3.40352009e+00,   2.73859651e+00,   2.26914809e+00,\n",
       "          1.94534910e+00,   1.73511307e+00,   1.62043980e+00,\n",
       "          1.59638266e+00,   1.67331863e+00,   1.88490655e+00,\n",
       "          2.30825367e+00,   3.11419535e+00,   4.70023926e+00,\n",
       "          8.07499173e+00,   1.60953169e+01,   3.79359790e+01,\n",
       "          1.06957411e+02,   3.51517758e+02,   1.14017121e+03,\n",
       "          2.41731499e+03,   2.77900007e+03,   2.30104907e+03,\n",
       "          1.69895774e+03,   1.20459440e+03,   8.40337712e+02,\n",
       "          5.82162266e+02,   4.02210936e+02,   2.77777305e+02,\n",
       "          1.92060486e+02,   1.33103883e+02,   9.25563729e+01,\n",
       "          6.46431422e+01,   4.53933229e+01,   3.20851117e+01,\n",
       "          2.28559171e+01,   1.64318801e+01,   1.19416374e+01]))"
      ]
     },
     "execution_count": 7,
     "metadata": {},
     "output_type": "execute_result"
    }
   ],
   "source": [
    "times_, rabbits_, foxes_  = times[::10], rabbits[::10], foxes[::10]\n",
    "times_, rabbits_, foxes_"
   ]
  },
  {
   "cell_type": "markdown",
   "metadata": {},
   "source": [
    "If we call a comparison operator on an array, we get an array of Boolean values like this"
   ]
  },
  {
   "cell_type": "code",
   "execution_count": 8,
   "metadata": {},
   "outputs": [
    {
     "data": {
      "text/plain": [
       "array([False, False, False, False, False, False, False, False, False,\n",
       "       False, False, False, False, False, False, False, False, False,\n",
       "       False, False, False,  True,  True,  True,  True,  True,  True,\n",
       "        True,  True,  True,  True,  True,  True,  True,  True,  True,\n",
       "        True,  True,  True,  True,  True,  True,  True,  True,  True,\n",
       "        True,  True,  True,  True,  True,  True,  True,  True,  True,\n",
       "        True,  True,  True,  True,  True,  True], dtype=bool)"
      ]
     },
     "execution_count": 8,
     "metadata": {},
     "output_type": "execute_result"
    }
   ],
   "source": [
    "times_ > 200"
   ]
  },
  {
   "cell_type": "markdown",
   "metadata": {},
   "source": [
    "If we multiply a number by a boolean, then the True is treated as 1 and the False as 0, like this:"
   ]
  },
  {
   "cell_type": "code",
   "execution_count": 9,
   "metadata": {},
   "outputs": [
    {
     "data": {
      "text/plain": [
       "array([0, 0, 0, 0, 0, 0, 0, 0, 0, 0, 0, 0, 0, 0, 0, 0, 0, 0, 0, 0, 0, 5, 5,\n",
       "       5, 5, 5, 5, 5, 5, 5, 5, 5, 5, 5, 5, 5, 5, 5, 5, 5, 5, 5, 5, 5, 5, 5,\n",
       "       5, 5, 5, 5, 5, 5, 5, 5, 5, 5, 5, 5, 5, 5])"
      ]
     },
     "execution_count": 9,
     "metadata": {},
     "output_type": "execute_result"
    }
   ],
   "source": [
    "5 * (times_>200)"
   ]
  },
  {
   "cell_type": "markdown",
   "metadata": {},
   "source": [
    "We can chain these together, for example to make an array of the number of foxes but only containing values corresponding to times > 200 and foxes > 100:"
   ]
  },
  {
   "cell_type": "code",
   "execution_count": 10,
   "metadata": {},
   "outputs": [
    {
     "data": {
      "text/plain": [
       "array([    0.        ,     0.        ,     0.        ,     0.        ,\n",
       "           0.        ,     0.        ,     0.        ,     0.        ,\n",
       "           0.        ,     0.        ,     0.        ,     0.        ,\n",
       "           0.        ,     0.        ,     0.        ,     0.        ,\n",
       "           0.        ,     0.        ,     0.        ,     0.        ,\n",
       "           0.        ,     0.        ,     0.        ,     0.        ,\n",
       "           0.        ,     0.        ,     0.        ,     0.        ,\n",
       "           0.        ,     0.        ,     0.        ,     0.        ,\n",
       "           0.        ,     0.        ,     0.        ,     0.        ,\n",
       "           0.        ,     0.        ,     0.        ,   106.95741121,\n",
       "         351.51775843,  1140.17121455,  2417.31498871,  2779.00007434,\n",
       "        2301.04907353,  1698.9577386 ,  1204.5944033 ,   840.33771182,\n",
       "         582.16226638,   402.21093576,   277.77730463,   192.06048582,\n",
       "         133.10388328,     0.        ,     0.        ,     0.        ,\n",
       "           0.        ,     0.        ,     0.        ,     0.        ])"
      ]
     },
     "execution_count": 10,
     "metadata": {},
     "output_type": "execute_result"
    }
   ],
   "source": [
    "foxes_ * (times_>200) * (foxes_>100)"
   ]
  },
  {
   "cell_type": "markdown",
   "metadata": {},
   "source": [
    "We just sliced out where we want to look for a second peak:"
   ]
  },
  {
   "cell_type": "code",
   "execution_count": 11,
   "metadata": {},
   "outputs": [
    {
     "data": {
      "image/png": "[encoded data removed]",
      "text/plain": [
       "<matplotlib.figure.Figure at 0x10d4f6c18>"
      ]
     },
     "metadata": {},
     "output_type": "display_data"
    }
   ],
   "source": [
    "plt.plot(times,foxes*(times>200)*(foxes>100))\n",
    "plt.show()"
   ]
  },
  {
   "cell_type": "markdown",
   "metadata": {},
   "source": [
    "Now if we want to find the index of the highest of those values, we can use `np.argmax()` (check its documentation if unsure)"
   ]
  },
  {
   "cell_type": "code",
   "execution_count": 12,
   "metadata": {},
   "outputs": [
    {
     "data": {
      "text/plain": [
       "43"
      ]
     },
     "execution_count": 12,
     "metadata": {},
     "output_type": "execute_result"
    }
   ],
   "source": [
    "i = np.argmax(foxes_*(times_>200)*(foxes_>100))\n",
    "i"
   ]
  },
  {
   "cell_type": "markdown",
   "metadata": {},
   "source": [
    "then to find the location (on a fox-v-time plot) of that peak"
   ]
  },
  {
   "cell_type": "code",
   "execution_count": 13,
   "metadata": {},
   "outputs": [
    {
     "data": {
      "text/plain": [
       "(430.0, 2779.0000743363626)"
      ]
     },
     "execution_count": 13,
     "metadata": {},
     "output_type": "execute_result"
    }
   ],
   "source": [
    "times_[i], foxes_[i]"
   ]
  },
  {
   "cell_type": "markdown",
   "metadata": {},
   "source": [
    "These tricks relied upon using numpy arrays rather than lists.\n",
    "If you know how big something is going to be before you start, then you can create an empty numpy array to store it in, eg. using `np.zeros()`"
   ]
  },
  {
   "cell_type": "code",
   "execution_count": 14,
   "metadata": {},
   "outputs": [
    {
     "data": {
      "text/plain": [
       "array([ 0.99564484,  0.47026351,  0.83646145,  0.47635321,  0.63906814,\n",
       "        0.15061642,  0.63486066,  0.86804531,  0.52318121,  0.74125186])"
      ]
     },
     "execution_count": 14,
     "metadata": {},
     "output_type": "execute_result"
    }
   ],
   "source": [
    "runs = 10\n",
    "average_peak_time = np.zeros(runs)\n",
    "for i in range(runs):\n",
    "    average_peak_time[i] = random.random()\n",
    "average_peak_time"
   ]
  },
  {
   "cell_type": "markdown",
   "metadata": {},
   "source": [
    "But if you're not sure how long something will be then start with an empty list, append to it, then convert it into a numpy array when you're finished:"
   ]
  },
  {
   "cell_type": "code",
   "execution_count": 15,
   "metadata": {},
   "outputs": [
    {
     "data": {
      "text/plain": [
       "(array([  4.76907056e-02,   9.53814112e-02,   1.43072117e-01, ...,\n",
       "          5.99949076e+02,   5.99996767e+02,   6.00044458e+02]),\n",
       " array([1, 1, 1, ..., 1, 1, 1]))"
      ]
     },
     "execution_count": 15,
     "metadata": {},
     "output_type": "execute_result"
    }
   ],
   "source": [
    "times = []\n",
    "foxes = []\n",
    "time = 0\n",
    "while time < 600:\n",
    "    time += wait_time\n",
    "    times.append(time)\n",
    "    foxes.append(1)\n",
    "times = np.array(times)\n",
    "foxes = np.array(foxes)\n",
    "times, foxes"
   ]
  }
 ],
 "metadata": {
  "anaconda-cloud": {},
  "kernelspec": {
   "display_name": "Python [conda env:py3]",
   "language": "python",
   "name": "conda-env-py3-py"
  },
  "language_info": {
   "codemirror_mode": {
    "name": "ipython",
    "version": 3
   },
   "file_extension": ".py",
   "mimetype": "text/x-python",
   "name": "python",
   "nbconvert_exporter": "python",
   "pygments_lexer": "ipython3",
   "version": "3.6.0"
  }
 },
 "nbformat": 4,
 "nbformat_minor": 1
}
