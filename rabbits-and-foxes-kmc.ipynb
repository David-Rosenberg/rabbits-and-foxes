{
 "cells": [
  {
   "cell_type": "markdown",
   "metadata": {},
   "source": [
    "# Rabbits and foxes\n",
    "\n",
    "There are initially 400 rabbits and 200 foxes on a farm (but it could be two cell types in a 96 well plate or something, if you prefer bio-engineering analogies). Plot the concentration of foxes and rabbits as a function of time for a period of up to 600 days. The predator-prey relationships are given by the following set of coupled ordinary differential equations:\n",
    "\n",
    "\\begin{align}\n",
    "\\frac{dR}{dt} &= k_1 R - k_2 R F \\tag{1}\\\\\n",
    "\\frac{dF}{dt} &= k_3 R F - k_4 F \\tag{2}\\\\\n",
    "\\end{align}\n",
    "\n",
    "* Constant for growth of rabbits $k_1 = 0.015$ day<sup>-1</sup>\n",
    "* Constant for death of rabbits being eaten by foxes $k_2 = 0.00004$ day<sup>-1</sup> foxes<sup>-1</sup>\n",
    "* Constant for growth of foxes after eating rabbits $k_3 = 0.0004$ day<sup>-1</sup> rabbits<sup>-1</sup>\n",
    "* Constant for death of foxes $k_4 = 0.04$ day<sup>-1</sup>\n",
    "\n",
    "*This problem is based on one from Chapter 1 of H. Scott Fogler's textbook \"Essentials of Chemical Reaction Engineering\".*\n"
   ]
  },
  {
   "cell_type": "code",
   "execution_count": 4,
   "metadata": {},
   "outputs": [],
   "source": [
    "%matplotlib inline\n",
    "import numpy as np\n",
    "from matplotlib import pyplot as plt"
   ]
  },
  {
   "cell_type": "markdown",
   "metadata": {},
   "source": [
    "# Now let's try some Kinetic Monte Carlo"
   ]
  },
  {
   "cell_type": "markdown",
   "metadata": {
    "collapsed": true
   },
   "source": [
    "We wish to implement a Kinetic Monte Carlo algorithm to simulate the same situation. See https://en.wikipedia.org/wiki/Kinetic_Monte_Carlo for details.\n",
    "\n",
    "We'll assume the numbers of rabbits and foxes (starting at 400 and 200) are actual rabbits and foxes, not \"rabbit densities\" for example, and so must always remain integers: you can't have half a rabbit or half a fox.\n",
    "\n",
    "There are four events, with rates that are straightforward to calculate, so the rejection-free algorithm is suitable:\n",
    "* `rabbit_birth = k1 * rabbits`\n",
    "* `rabbit_death = k2 * rabbits * foxes`\n",
    "* `fox_birth = k3 * rabbits * foxes`\n",
    "* `fox_death = k4 * foxes`\n",
    "\n",
    "\n",
    "Use a Kinetic Monte Carlo simulation(s) running for 600 days to determine\n",
    "1. The expected location of the second peak in foxes (eg. 425 days, 2800 foxes), on occasions that there is one (eg. if there's a peak that's  >200 days and >100 foxes)\n",
    "2. The interquartile range of the second peak in foxes (eg. 411-443 days, 2700-3120 foxes).\n",
    "3. The probability that the foxes die out before 600 days are complete\n",
    "\n",
    "Make sure you've done enough simulations to be suitably confident in your answers (given the precision you think appropriate)."
   ]
  },
  {
   "cell_type": "markdown",
   "metadata": {},
   "source": [
    "# Your turn!"
   ]
  },
  {
   "cell_type": "code",
   "execution_count": 18,
   "metadata": {},
   "outputs": [],
   "source": [
    "# Paste library imports here so they don't have to be re-run all the time - OK admittedly that's not what I did\n",
    "%matplotlib inline\n",
    "import numpy as np\n",
    "import math\n",
    "from matplotlib import pyplot as plt\n",
    "from scipy.stats import iqr as iqr\n",
    "# Set constants\n",
    "k1 = 0.015\n",
    "k2 = 0.00004\n",
    "k3 = 0.0004\n",
    "k4 = 0.04"
   ]
  },
  {
   "cell_type": "code",
   "execution_count": 19,
   "metadata": {},
   "outputs": [],
   "source": [
    "# Initialize model\n",
    "t = 0\n",
    "state = 0\n",
    "rabbits = []\n",
    "foxes = []\n",
    "times = []\n",
    "rabbits.append(400)\n",
    "foxes.append(200)\n",
    "times.append(t)\n",
    "while t < 600: # Run the simulation until random time steps add up to 600 days\n",
    "    # store the last values of rabbits and foxes locally\n",
    "    r = rabbits[-1]\n",
    "    f = foxes[-1]\n",
    "    # Calculate rates\n",
    "    rabbit_birth = k1 * r\n",
    "    rabbit_death = k2 * r * f\n",
    "    fox_birth = k3 * r * f\n",
    "    fox_death = k4 * f\n",
    "    total_rate = rabbit_birth + rabbit_death + fox_birth + fox_death\n",
    "    # Calculate cumulative probabilities\n",
    "    rabirth_index = rabbit_birth / total_rate\n",
    "    radeath_index = rabirth_index + rabbit_death / total_rate\n",
    "    foxbirth_index = radeath_index + fox_birth / total_rate\n",
    "    # Set the new outcome\n",
    "    state = np.random.uniform(0,1)         # Set state to random number from 0 to 1\n",
    "    if state < foxbirth_index:          # If ouside fox death region (foxbirth_index < state < 1)\n",
    "        if state < radeath_index:       # If outside fox birth region (radeath_index < state < foxbirth_index)\n",
    "            if state >= rabirth_index:  # if inside rabbit death region (rabirth_index < state < radeath_index )\n",
    "                rabbits.append(r - 1)   # Subtract 1 rabbit (rabbit death) and keep foxes same\n",
    "                foxes.append(f)\n",
    "            else:                       # Only remaining option here rabbit birth index\n",
    "                rabbits.append(r + 1)   # Add 1 rabbit \n",
    "                foxes.append(f)         # and keep foxes same\n",
    "        else:                           # If inside fox birth region (radeath_index <= state < foxbirth_index)\n",
    "            rabbits.append(r)           # Keep rabbits same\n",
    "            foxes.append(f+1)           # and add 1 fox\n",
    "    else:                               # If inside fox death region (foxbirth_index < state < 1)\n",
    "        rabbits.append(r)               # Keep rabbits same\n",
    "        foxes.append(f-1)               # and subtract 1 fox (fox death)\n",
    "    # Calculate time step\n",
    "    t = times[-1]                       # Retrieve current time value\n",
    "    times.append(t + math.log(1 / np.random.uniform(1,0)) / total_rate)  # Add new time value\n",
    "    \n",
    "    \n",
    "# Algorithm:\n",
    "# I. Initialize rabbits, foxes, times arrays DONE\n",
    "#II. Write Do until loop for time to 600 days DONE\n",
    "    # 1. Capture current rabbit and fox values DONE\n",
    "    # 2. Calculate probabilities of the four events for current rabbit & fox values DONE\n",
    "    # 3. Map probabilities into distribution from 0 - 1 DONE\n",
    "        # i. sum rates DONE\n",
    "        # ii. calculate rate[i]/sum for each rate DONE\n",
    "        # iii. store additive ranges of each rate[i]/sum DONE\n",
    "    # 4. Set new state DONE\n",
    "        # i. generate random number DONE\n",
    "        # ii. select state from ranges in 3 DONE\n",
    "    # 5. Update outcome DONE\n",
    "        # i. rabbit_birth --> append current rabbit value + 1 to rabbits etc. DONE\n",
    "        # ii. for other value append current value DONE\n",
    "    # 6. Generate random time step DONE\n",
    "        # i. generate new random number u' DONE - merged with below\n",
    "        # ii. time = time + ln(1/u') / sum of rates DONE\n",
    "        "
   ]
  },
  {
   "cell_type": "code",
   "execution_count": 3,
   "metadata": {},
   "outputs": [],
   "source": [
    "def KMC():\n",
    "    # Initialize model\n",
    "    t = 0\n",
    "    state = 0\n",
    "    rabbits = [400]\n",
    "    foxes = [200]\n",
    "    times = [t]\n",
    "    while t < 600: # Run the simulation until random time steps add up to 600 days\n",
    "        # store the last values of rabbits and foxes locally\n",
    "        r = rabbits[-1]\n",
    "        f = foxes[-1]\n",
    "        # Throw in error checking to abort calculation if all rabbits are dead\n",
    "        if r <= 0:\n",
    "            break\n",
    "        # Calculate rates\n",
    "        rabbit_birth = k1 * r\n",
    "        rabbit_death = k2 * r * f\n",
    "        fox_birth = k3 * r * f\n",
    "        fox_death = k4 * f\n",
    "        total_rate = rabbit_birth + rabbit_death + fox_birth + fox_death\n",
    "        # Calculate cumulative probabilities\n",
    "        rabirth_index = rabbit_birth / total_rate\n",
    "        radeath_index = rabirth_index + rabbit_death / total_rate\n",
    "        foxbirth_index = radeath_index + fox_birth / total_rate\n",
    "        # Set the new outcome\n",
    "        state = np.random.uniform(0,1)      # Set state to random number from 0 to 1\n",
    "        if state < foxbirth_index:          # If ouside fox death region (foxbirth_index < state < 1)\n",
    "            if state < radeath_index:       # If outside fox birth region (radeath_index < state < foxbirth_index)\n",
    "                if state >= rabirth_index:  # if inside rabbit death region (rabirth_index < state < radeath_index )\n",
    "                    rabbits.append(r - 1)   # Subtract 1 rabbit (rabbit death) \n",
    "                    foxes.append(f)         # and keep foxes same\n",
    "                else:                       # Only remaining option here rabbit birth index\n",
    "                    rabbits.append(r + 1)   # Add 1 rabbit \n",
    "                    foxes.append(f)         # and keep foxes same\n",
    "            else:                           # If inside fox birth region (radeath_index <= state < foxbirth_index)\n",
    "                rabbits.append(r)           # Keep rabbits same\n",
    "                foxes.append(f+1)           # and add 1 fox\n",
    "        else:                               # If inside fox death region (foxbirth_index < state < 1)\n",
    "            rabbits.append(r)               # Keep rabbits same\n",
    "            foxes.append(f-1)               # and subtract 1 fox (fox death)\n",
    "        # Calculate time step  \n",
    "        t = times[-1] # Update current time value        \n",
    "        times.append(t + math.log(1 / np.random.uniform(1,0)) / total_rate)  # Add new time value\n",
    "    # Convert foxes and times to arrays for range handling\n",
    "    fox_arr = np.array(foxes)\n",
    "    time_arr = np.array(times)\n",
    "    # Find 2nd peak range and return stats\n",
    "    fox_subset = fox_arr*(fox_arr>100)*(time_arr > 200)     # From tips, find portion of foxes array after 300 days with more than 100 foxes\n",
    "    return [times[np.argmax(fox_subset)],np.amax(fox_subset),foxes[-1]==0] # Return list of time of 2nd peak, value of 2nd peak, whether all foxes died"
   ]
  },
  {
   "cell_type": "markdown",
   "metadata": {},
   "source": [
    "# Convergence test"
   ]
  },
  {
   "cell_type": "code",
   "execution_count": 4,
   "metadata": {
    "scrolled": true
   },
   "outputs": [
    {
     "name": "stdout",
     "output_type": "stream",
     "text": [
      "iterations      peak value\n",
      "10      2.49e+03\n",
      "20      2.27e+03\n",
      "30      2.01e+03\n",
      "40      2.46e+03\n",
      "50      2.57e+03\n",
      "60      2.19e+03\n",
      "70      2.62e+03\n",
      "80      2.38e+03\n",
      "90      2.35e+03\n",
      "100      2.43e+03\n"
     ]
    }
   ],
   "source": [
    "# Set up output a la ODE solver\n",
    "run_nums = []  # List to hold number of KMC iterations\n",
    "ave_maxes = [] # List to hold average peak value\n",
    "print(\"iterations      peak value\")\n",
    "# Iterate from 10 to 100 times in 10 run increments and store avearage max\n",
    "for i in np.arange(9,109,10):\n",
    "    run_nums.append(i+1) # Record number of iterations in this run\n",
    "    maxes= [KMC()[1]] # List to store maxes in one set of runs before averaging\n",
    "    for j in range(i):\n",
    "        maxes.append(KMC()[1]) # Adds a new KMC max to maxes\n",
    "    maxarr = np.array(maxes)   # Converts maxes list to array for average calculation\n",
    "    ave_max = np.average(maxarr[maxarr > 0]) # Calculate average of peaks (where peaks occur)\n",
    "    ave_maxes.append(ave_max) # Adds the average of maxes to ave_maxes\n",
    "    print(\"{0:2d}      {1:8.3g}\".format(i+1, ave_max))"
   ]
  },
  {
   "cell_type": "markdown",
   "metadata": {},
   "source": [
    "Well that didn't work. Let's try with more iterations and see if a tighter interval is possible"
   ]
  },
  {
   "cell_type": "code",
   "execution_count": 7,
   "metadata": {},
   "outputs": [
    {
     "name": "stdout",
     "output_type": "stream",
     "text": [
      "iterations      peak value\n",
      "10            2304.4\n",
      "20            2381.1\n",
      "30            2050.1\n",
      "40            2337.1\n",
      "50            2197.5\n",
      "60            2397.2\n",
      "70            2237.5\n",
      "80            2306.5\n",
      "90            2277.0\n",
      "100            2442.8\n",
      "110            2367.4\n",
      "120            2403.7\n",
      "130            2375.6\n",
      "140            2309.5\n",
      "150            2380.0\n",
      "160            2334.2\n",
      "170            2311.6\n",
      "180            2377.9\n",
      "190            2323.8\n"
     ]
    }
   ],
   "source": [
    "# Set up output a la ODE solver\n",
    "run_nums = []  # List to hold number of KMC iterations\n",
    "ave_maxes = [] # List to hold average peak value\n",
    "print(\"iterations      peak value\")\n",
    "# Iterate from 100 to 150 times in 10 run increments and store avearage max\n",
    "for i in np.arange(9,199,10):\n",
    "    run_nums.append(i+1) # Record number of iterations in this run\n",
    "    maxes= [KMC()[1]] # List to store maxes in one set of runs before averaging\n",
    "    for j in range(i):\n",
    "        maxes.append(KMC()[1]) # Adds a new KMC max to maxes\n",
    "    maxarr = np.array(maxes)   # Converts maxes list to array for average calculation\n",
    "    ave_max = np.average(maxarr[maxarr > 0]) # Calculate average of peaks (where peaks occur)\n",
    "    ave_maxes.append(ave_max) # Adds the average of maxes to ave_maxes\n",
    "    print(\"{0:2d}            {1:5.1f}\".format(i+1, ave_max))"
   ]
  },
  {
   "cell_type": "code",
   "execution_count": 8,
   "metadata": {},
   "outputs": [
    {
     "data": {
      "text/plain": [
       "[<matplotlib.lines.Line2D at 0x28ba36fafd0>]"
      ]
     },
     "execution_count": 8,
     "metadata": {},
     "output_type": "execute_result"
    },
    {
     "data": {
      "image/png": "[encoded data removed]",
      "text/plain": [
       "<Figure size 432x288 with 1 Axes>"
      ]
     },
     "metadata": {},
     "output_type": "display_data"
    }
   ],
   "source": [
    "plt.plot(run_nums, ave_maxes)"
   ]
  },
  {
   "cell_type": "markdown",
   "metadata": {},
   "source": [
    "# Analysis"
   ]
  },
  {
   "cell_type": "code",
   "execution_count": 23,
   "metadata": {},
   "outputs": [
    {
     "name": "stdout",
     "output_type": "stream",
     "text": [
      "The average second peak location is 400.2 days at 2460.4 foxes\n",
      "The interquartile range is 367.0 - 433.4 days and 1701.6 - 3219.1 foxes\n",
      "The proportion of simulations in which foxes died out by day 600 is 0.669\n"
     ]
    }
   ],
   "source": [
    "# Based on the above, a run of 170 iterations looks like a good sample size\n",
    "iterations = 175\n",
    "# Initialize arrays to hold KMC data\n",
    "peak_times = np.zeros(iterations)\n",
    "peak_sizes = np.zeros(iterations)\n",
    "extinctions  = np.zeros(iterations)\n",
    "# Store KMC data in arrays\n",
    "for i in range(iterations):\n",
    "    peak_times[i], peak_sizes[i], extinctions[i] = KMC()\n",
    "# Find average time and peak size for runs that have a second peak\n",
    "sp_times = peak_times[peak_sizes > 0]\n",
    "sp_sizes = peak_sizes[peak_sizes > 0]\n",
    "mean_time = np.average(sp_times)\n",
    "mean_size = np.average(sp_sizes)\n",
    "# Find IQR for times and peak sizes for runs that have a second peak\n",
    "time_iqr = iqr(sp_times)\n",
    "size_iqr = iqr(sp_sizes)\n",
    "# Find probability of foxes dying before 600 days are over\n",
    "p_fox_death = sum(extinctions) / iterations\n",
    "# Display results woooo!\n",
    "print(\"The average second peak location is {0:5.1f} days at {1:5.1f} foxes\".format(mean_time,mean_size))\n",
    "print(\"The interquartile range is {0:5.1f} - {1:5.1f} days and {2:5.1f} - {3:5.1f} foxes\".format(mean_time - time_iqr, mean_time + time_iqr, mean_size - size_iqr, mean_size + size_iqr))\n",
    "print(\"The proportion of simulations in which foxes died out by day 600 is {0:1.3f}\".format(p_fox_death))"
   ]
  }
 ],
 "metadata": {
  "anaconda-cloud": {},
  "kernelspec": {
   "display_name": "Python 3",
   "language": "python",
   "name": "python3"
  },
  "language_info": {
   "codemirror_mode": {
    "name": "ipython",
    "version": 3
   },
   "file_extension": ".py",
   "mimetype": "text/x-python",
   "name": "python",
   "nbconvert_exporter": "python",
   "pygments_lexer": "ipython3",
   "version": "3.6.5"
  }
 },
 "nbformat": 4,
 "nbformat_minor": 1
}
